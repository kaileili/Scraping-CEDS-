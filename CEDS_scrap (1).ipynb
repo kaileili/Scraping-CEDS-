{
  "nbformat": 4,
  "nbformat_minor": 0,
  "metadata": {
    "colab": {
      "provenance": []
    },
    "kernelspec": {
      "name": "python3",
      "display_name": "Python 3"
    },
    "language_info": {
      "name": "python"
    }
  },
  "cells": [
    {
      "cell_type": "code",
      "metadata": {
        "colab": {
          "base_uri": "https://localhost:8080/"
        },
        "id": "bYL-kGlbbsaD",
        "outputId": "429230bd-4c12-45d2-bb69-9e875165ddfd"
      },
      "source": [
        "from requests import get\n",
        "url = 'http://www.statsamerica.org/ceds/Default.aspx'\n",
        "response = get(url)\n",
        "print(response.text[:500])"
      ],
      "execution_count": 1,
      "outputs": [
        {
          "output_type": "stream",
          "name": "stdout",
          "text": [
            "\r\n",
            "\r\n",
            "<!DOCTYPE html>\r\n",
            "<html lang=\"en\">\r\n",
            "\r\n",
            "<head>\r\n",
            "<!-- Google Tag Manager for StatsAmerica-->\r\n",
            "<script>(function(w,d,s,l,i){w[l]=w[l]||[];w[l].push({'gtm.start':\r\n",
            "new Date().getTime(),event:'gtm.js'});var f=d.getElementsByTagName(s)[0],\r\n",
            "j=d.createElement(s),dl=l!='dataLayer'?'&l='+l:'';j.async=true;j.src=\r\n",
            "'https://www.googletagmanager.com/gtm.js?id='+i+dl;f.parentNode.insertBefore(j,f);\r\n",
            "})(window,document,'script','dataLayer','GTM-59KWX79');</script>\r\n",
            "<!-- End Google Tag Manager -->\r\n",
            "    \r\n",
            "\t<m\n"
          ]
        }
      ]
    },
    {
      "cell_type": "code",
      "metadata": {
        "id": "gd6mgmIsbtxE"
      },
      "source": [
        "from bs4 import BeautifulSoup\n",
        "html_soup = BeautifulSoup(response.text, 'html.parser')\n",
        "type(html_soup)\n",
        "\n",
        "import csv, urllib.request\n",
        "import pandas as pd\n",
        "\n"
      ],
      "execution_count": null,
      "outputs": []
    },
    {
      "cell_type": "code",
      "metadata": {
        "id": "JanucOlLetwQ"
      },
      "source": [
        "import csv, urllib.request\n",
        "import requests \n",
        "import json\n",
        "\n",
        "def get_map_data():\n",
        "  url = 'http://www.statsamerica.org/ceds/edd_reg.csv'\n",
        "  response = urllib.request.urlopen(url)\n",
        "  lines = [l.decode('utf-8') for l in response.readlines()]\n",
        "  cr = csv.reader(lines)\n",
        "\n",
        "  data = pd.read_csv(url,sep=\",\") # use sep=\",\" for coma separation. \n",
        "\n",
        "  id = data['id']\n",
        "  return id "
      ],
      "execution_count": null,
      "outputs": []
    },
    {
      "cell_type": "code",
      "metadata": {
        "id": "x8Ksa6mQihMZ"
      },
      "source": [
        "import requests\n",
        "\n",
        "\n",
        "headers = {\n",
        "    'Connection': 'keep-alive',\n",
        "    'Accept': '*/*',\n",
        "    'User-Agent': 'Mozilla/5.0 (Macintosh; Intel Mac OS X 10_15_5) AppleWebKit/537.36 (KHTML, like Gecko) Chrome/93.0.4577.82 Safari/537.36',\n",
        "    'X-Requested-With': 'XMLHttpRequest',\n",
        "    'Referer': 'http://www.statsamerica.org/ceds/Default.aspx',\n",
        "    'Accept-Language': 'zh-CN,zh;q=0.9,en;q=0.8',\n",
        "}\n",
        "\n",
        "params = (\n",
        "    ('edd_id', '6500344'),\n",
        "    ('edd_name', ''),\n",
        ")\n",
        "\n",
        "response = requests.get('http://www.statsamerica.org/ceds/edd_card.aspx', headers=headers, params=params, verify=False)\n",
        "response.raise_for_status()  # raises exception when not a 2xx response\n",
        "\n",
        "\n",
        "\n",
        "#NB. Original query string below. It seems impossible to parse and\n",
        "#reproduce query strings 100% accurately so the one below is given\n",
        "#in case the reproduced version is not \"correct\".\n",
        "# response = requests.get('http://www.statsamerica.org/ceds/edd_card.aspx?edd_id=6500344&edd_name=', headers=headers, cookies=cookies, verify=False)\n"
      ],
      "execution_count": null,
      "outputs": []
    },
    {
      "cell_type": "code",
      "metadata": {
        "id": "NM39EujPy8y4"
      },
      "source": [],
      "execution_count": null,
      "outputs": []
    },
    {
      "cell_type": "code",
      "metadata": {
        "colab": {
          "base_uri": "https://localhost:8080/",
          "height": 130
        },
        "id": "oDkLw5HRnaV6",
        "outputId": "0ff99d84-b83f-425e-9326-eb7f4ae22646"
      },
      "source": [
        "if (\n",
        "    response.status_code != 204 and\n",
        "    response.headers[\"content-type\"].strip().startswith(\"application/json\")\n",
        "):\n",
        "    try:\n",
        "        return response.json()\n",
        "    except ValueError:"
      ],
      "execution_count": null,
      "outputs": [
        {
          "output_type": "error",
          "ename": "SyntaxError",
          "evalue": "ignored",
          "traceback": [
            "\u001b[0;36m  File \u001b[0;32m\"<ipython-input-34-c48e12978202>\"\u001b[0;36m, line \u001b[0;32m7\u001b[0m\n\u001b[0;31m    except ValueError:\u001b[0m\n\u001b[0m                      ^\u001b[0m\n\u001b[0;31mSyntaxError\u001b[0m\u001b[0;31m:\u001b[0m unexpected EOF while parsing\n"
          ]
        }
      ]
    },
    {
      "cell_type": "code",
      "metadata": {
        "id": "jYXI61qiimPn"
      },
      "source": [
        "map_data = get_map_data()"
      ],
      "execution_count": null,
      "outputs": []
    },
    {
      "cell_type": "code",
      "metadata": {
        "id": "OG4fq964bzNh",
        "colab": {
          "base_uri": "https://localhost:8080/"
        },
        "outputId": "19d893d6-c3e5-4336-8164-4413d7f49c49"
      },
      "source": [
        "get_id (map_data)"
      ],
      "execution_count": null,
      "outputs": [
        {
          "output_type": "execute_result",
          "data": {
            "text/plain": [
              "<bound method Response.json of <Response [500]>>"
            ]
          },
          "metadata": {},
          "execution_count": 13
        }
      ]
    },
    {
      "cell_type": "code",
      "metadata": {
        "colab": {
          "base_uri": "https://localhost:8080/"
        },
        "id": "U9XyCg9FbJsa",
        "outputId": "08ab83fe-5aba-4585-b129-da11ff0e6a88"
      },
      "source": [
        "mapID = get_map_data()\n",
        "len(mapID)"
      ],
      "execution_count": null,
      "outputs": [
        {
          "output_type": "execute_result",
          "data": {
            "text/plain": [
              "2636"
            ]
          },
          "metadata": {},
          "execution_count": 14
        }
      ]
    },
    {
      "cell_type": "code",
      "metadata": {
        "id": "je-Ie58TbcCD"
      },
      "source": [
        "EDD_list = []"
      ],
      "execution_count": null,
      "outputs": []
    },
    {
      "cell_type": "code",
      "metadata": {
        "id": "XsP6ArEsjxNg",
        "colab": {
          "base_uri": "https://localhost:8080/"
        },
        "outputId": "69ae0bbc-cc02-4ec6-80aa-67059d3c7963"
      },
      "source": [
        "for ids in mapID[0:20]:\n",
        "  _id = ids\n",
        "  print(_id)\n",
        "  edd_details = get_id(_id)\n",
        "  EDD_list.append(edd_details)\n",
        "\n",
        "\n",
        "\n"
      ],
      "execution_count": null,
      "outputs": [
        {
          "output_type": "stream",
          "name": "stdout",
          "text": [
            "6500136\n",
            "6500137\n",
            "6500138\n",
            "6500138\n",
            "6500138\n",
            "6500138\n",
            "6500138\n",
            "6500139\n",
            "6500139\n",
            "6500140\n",
            "6500140\n",
            "6500140\n",
            "6500141\n",
            "6500141\n",
            "6500142\n",
            "6500142\n",
            "6500145\n",
            "6500145\n",
            "6500145\n",
            "6500146\n"
          ]
        }
      ]
    },
    {
      "cell_type": "code",
      "metadata": {
        "colab": {
          "base_uri": "https://localhost:8080/"
        },
        "id": "jBRNjnnzciPG",
        "outputId": "cb6be49b-1ef7-4f69-b0af-ff0b8a2bb880"
      },
      "source": [
        "                                         #check for EDD list and see if the loop of id works\n",
        "print(EDD_list)\n"
      ],
      "execution_count": null,
      "outputs": [
        {
          "output_type": "stream",
          "name": "stdout",
          "text": [
            "[<bound method Response.json of <Response [500]>>, <bound method Response.json of <Response [500]>>, <bound method Response.json of <Response [500]>>, <bound method Response.json of <Response [500]>>, <bound method Response.json of <Response [500]>>, <bound method Response.json of <Response [500]>>, <bound method Response.json of <Response [500]>>, <bound method Response.json of <Response [500]>>, <bound method Response.json of <Response [500]>>, <bound method Response.json of <Response [500]>>, <bound method Response.json of <Response [500]>>, <bound method Response.json of <Response [500]>>, <bound method Response.json of <Response [500]>>, <bound method Response.json of <Response [500]>>, <bound method Response.json of <Response [500]>>, <bound method Response.json of <Response [500]>>, <bound method Response.json of <Response [500]>>, <bound method Response.json of <Response [500]>>, <bound method Response.json of <Response [500]>>, <bound method Response.json of <Response [500]>>]\n"
          ]
        }
      ]
    },
    {
      "cell_type": "code",
      "metadata": {
        "id": "8UTBGz8NtQNt",
        "colab": {
          "base_uri": "https://localhost:8080/"
        },
        "outputId": "c86a5bfb-0066-418d-e73e-c44be915ae57"
      },
      "source": [
        "map_data "
      ],
      "execution_count": null,
      "outputs": [
        {
          "output_type": "execute_result",
          "data": {
            "text/plain": [
              "0       6500136\n",
              "1       6500137\n",
              "2       6500138\n",
              "3       6500138\n",
              "4       6500138\n",
              "         ...   \n",
              "2631    6500417\n",
              "2632    6500417\n",
              "2633    6500418\n",
              "2634    6500418\n",
              "2635    6500418\n",
              "Name: id, Length: 2636, dtype: int64"
            ]
          },
          "metadata": {},
          "execution_count": 18
        }
      ]
    },
    {
      "cell_type": "code",
      "metadata": {
        "colab": {
          "base_uri": "https://localhost:8080/"
        },
        "id": "hmkuwLQgjnpI",
        "outputId": "4c29cff0-e129-48af-9604-427a39a2880f"
      },
      "source": [
        "result_list = []          ## Can only scrap one state at a time \n",
        "\n",
        "result_list.append(map_data)\n",
        "\n",
        "print(result_list)\n"
      ],
      "execution_count": null,
      "outputs": [
        {
          "output_type": "stream",
          "name": "stdout",
          "text": [
            "[0       6500136\n",
            "1       6500137\n",
            "2       6500138\n",
            "3       6500138\n",
            "4       6500138\n",
            "         ...   \n",
            "2631    6500417\n",
            "2632    6500417\n",
            "2633    6500418\n",
            "2634    6500418\n",
            "2635    6500418\n",
            "Name: id, Length: 2636, dtype: int64]\n"
          ]
        }
      ]
    },
    {
      "cell_type": "code",
      "metadata": {
        "id": "ir5el6Xllq-R"
      },
      "source": [
        "\n",
        "\n",
        "\n",
        "\n",
        "\n",
        "\n",
        "main_window_handle = None\n",
        "while not main_window_handle:\n",
        "    main_window_handle = driver.current_window_handle\n",
        "driver.find_element_by_xpath(u'//a[text()=\"click here\"]').click()\n",
        "signin_window_handle = None\n",
        "while not signin_window_handle:\n",
        "    for handle in driver.window_handles:\n",
        "        if handle != main_window_handle:\n",
        "            signin_window_handle = handle\n",
        "            break\n",
        "driver.switch_to.window(signin_window_handle)\n",
        "driver.find_element_by_xpath(u'//input[@id=\"id_1\"]').send_keys(user_text_1)\n",
        "driver.find_element_by_xpath(u'//input[@value=\"OK\"]').click()\n",
        "driver.find_element_by_xpath(u'//input[@id=\"id_2\"]').send_keys(user_text_2)\n",
        "driver.find_element_by_xpath(u'//input[@value=\"OK\"]').click()\n",
        "driver.switch_to.window(main_window_handle) #or driver.switch_to_default_content()"
      ],
      "execution_count": null,
      "outputs": []
    },
    {
      "cell_type": "code",
      "metadata": {
        "id": "vck8AA6blrIm"
      },
      "source": [],
      "execution_count": null,
      "outputs": []
    },
    {
      "cell_type": "code",
      "metadata": {
        "id": "I-bzF64AlrPL"
      },
      "source": [],
      "execution_count": null,
      "outputs": []
    },
    {
      "cell_type": "code",
      "metadata": {
        "id": "TMHG5BKHlrSE"
      },
      "source": [],
      "execution_count": null,
      "outputs": []
    },
    {
      "cell_type": "code",
      "metadata": {
        "id": "bwpsGqsggYsS"
      },
      "source": [
        "import pandas as pd                                                ##This block is for parsing \n",
        "test_df = pd.DataFrame({'Development_District': names,\n",
        "'Report_type': types,\n",
        "'Report_date': dates,\n",
        "'link': links\n",
        "})\n",
        "print(test_df.info())\n",
        "test_df\n"
      ],
      "execution_count": null,
      "outputs": []
    },
    {
      "cell_type": "code",
      "metadata": {
        "id": "nuWW-h25fHqT"
      },
      "source": [],
      "execution_count": null,
      "outputs": []
    },
    {
      "cell_type": "code",
      "metadata": {
        "id": "xFXtFp9jy92A"
      },
      "source": [],
      "execution_count": null,
      "outputs": []
    }
  ]
}